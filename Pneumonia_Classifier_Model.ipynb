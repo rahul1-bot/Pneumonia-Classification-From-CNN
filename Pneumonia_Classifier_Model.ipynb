{
 "cells": [
  {
   "cell_type": "code",
   "execution_count": 4,
   "metadata": {},
   "outputs": [],
   "source": [
    "# importing the libraries\n",
    "import keras\n",
    "from keras.models import Sequential\n",
    "from keras.layers import Dense\n",
    "from keras.layers import Conv2D\n",
    "from keras.layers import MaxPooling2D\n",
    "from keras.layers import Flatten\n",
    "from keras.layers import Dropout\n",
    "from keras.layers import BatchNormalization\n",
    "\n",
    "\n",
    "#importing the backends\n",
    "from keras import backend as K\n",
    "from keras.callbacks import LearningRateScheduler"
   ]
  },
  {
   "cell_type": "code",
   "execution_count": 12,
   "metadata": {},
   "outputs": [],
   "source": [
    "\"\"\"building the architecture of the convolutional neural network\"\"\"\n",
    "\n",
    "from keras.optimizers import SGD\n",
    "import numpy as np   #linear cal\n",
    "epoch = 15\n",
    "\n",
    "dropout = .35\n",
    "# try dropout -> [.35 , .45 , .55 , .65]\n",
    "\n",
    "# initilizing the cnn_model\n",
    "cnn_model = Sequential()\n",
    "\n",
    "# 1st convolutional step\n",
    "cnn_model.add(Conv2D(32 , (3,3) , strides = (1,1) , activation = \"relu\" , input_shape = (64 , 64 , 3)))\n",
    "cnn_model.add(BatchNormalization())\n",
    "cnn_model.add(Dropout(dropout))\n",
    "\n",
    "# 2nd conv layer with max_pooling\n",
    "cnn_model.add(Conv2D(32 , (3,3) , strides = (1,1) , activation = \"relu\"))\n",
    "cnn_model.add(BatchNormalization())\n",
    "cnn_model.add(MaxPooling2D(pool_size = (2,2)))\n",
    "cnn_model.add(Dropout(dropout))\n",
    "\n",
    "# 3rd conv and pooling layer \n",
    "cnn_model.add(Conv2D(32 , (3,3) , strides = (1,1) , activation = \"relu\"))\n",
    "cnn_model.add(BatchNormalization())\n",
    "cnn_model.add(MaxPooling2D(pool_size = (2,2)))\n",
    "cnn_model.add(Dropout(dropout))\n",
    "\n",
    "# 4th conv and pooling layer \n",
    "cnn_model.add(Conv2D(32 , (3,3) , strides = (1,1) , activation = \"relu\"))\n",
    "cnn_model.add(BatchNormalization())\n",
    "cnn_model.add(MaxPooling2D(pool_size = (2,2)))\n",
    "cnn_model.add(Dropout(dropout))\n",
    "\n",
    "# flattening the images\n",
    "cnn_model.add(Flatten())\n",
    "\n",
    "\n",
    "# full connection \n",
    "cnn_model.add(Dense(units = 128 , activation = \"relu\"))   # first_fully_connected_hidden_layer\n",
    "cnn_model.add(BatchNormalization())\n",
    "cnn_model.add(Dropout(dropout))\n",
    "\n",
    "cnn_model.add(Dense(units = 128 , activation = \"relu\"))   # second_fully_connected_hidden_layer\n",
    "cnn_model.add(BatchNormalization())\n",
    "cnn_model.add(Dropout(dropout))\n",
    "\n",
    "cnn_model.add(Dense(units = 128 , activation = \"relu\"))   # third_fully_connected_hidden_layer\n",
    "cnn_model.add(BatchNormalization())\n",
    "cnn_model.add(Dropout(dropout))\n",
    "\n",
    "cnn_model.add(Dense(units = 1 , activation = \"sigmoid\"))   # output_layer\n",
    "\n",
    "# defininig first step decay function\n",
    "class LossHistory_(keras.callbacks.Callback):\n",
    "    def on_train_begin(self, logs={}):\n",
    "        self.losses = []\n",
    "        self.lr = []\n",
    "        \n",
    "    def on_epoch_end(self, batch, logs={}):\n",
    "        self.losses.append(logs.get('loss'))\n",
    "        self.lr.append(exp_decay(len(self.losses)))\n",
    "        print('lr:', exp_decay(len(self.losses)))\n",
    "\n",
    "# defininig the Exponentail decay function\n",
    "def exp_decay(epoch):\n",
    "    initial_lrate = 0.1\n",
    "    k = 0.1\n",
    "    lrate = initial_lrate * np.exp(-k*epoch)\n",
    "    return lrate\n",
    "\n",
    "lrate = LearningRateScheduler(exp_decay)\n",
    "\n",
    "# learning schedule callback\n",
    "loss_history_ = LossHistory_()\n",
    "lrate_ = LearningRateScheduler(exp_decay)\n",
    "callbacks_list = [loss_history_ , lrate]\n",
    "\n",
    "\n",
    "# optimizing the SGD \n",
    "momentum = 0.9\n",
    "opti = SGD(lr = 0.0, momentum = momentum)\n",
    "\n",
    "# compiling the cnn model\n",
    "cnn_model.compile(optimizer = opti , loss = \"binary_crossentropy\" , metrics = [\"accuracy\"])\n"
   ]
  },
  {
   "cell_type": "code",
   "execution_count": 13,
   "metadata": {
    "scrolled": true
   },
   "outputs": [
    {
     "name": "stdout",
     "output_type": "stream",
     "text": [
      "Found 5216 images belonging to 2 classes.\n",
      "Found 624 images belonging to 2 classes.\n",
      "Epoch 1/15\n",
      " - 7543s - loss: 0.2138 - accuracy: 0.9173 - val_loss: 1.8296 - val_accuracy: 0.8267\n",
      "lr: 0.09048374180359596\n",
      "Epoch 2/15\n",
      " - 7221s - loss: 0.1479 - accuracy: 0.9468 - val_loss: 0.2168 - val_accuracy: 0.8822\n",
      "lr: 0.0818730753077982\n",
      "Epoch 3/15\n",
      " - 7069s - loss: 0.1261 - accuracy: 0.9555 - val_loss: 0.0251 - val_accuracy: 0.8885\n",
      "lr: 0.0740818220681718\n",
      "Epoch 4/15\n",
      " - 7073s - loss: 0.1159 - accuracy: 0.9590 - val_loss: 0.0651 - val_accuracy: 0.9106\n",
      "lr: 0.06703200460356394\n",
      "Epoch 5/15\n",
      " - 6943s - loss: 0.1078 - accuracy: 0.9614 - val_loss: 0.0368 - val_accuracy: 0.8996\n",
      "lr: 0.06065306597126335\n",
      "Epoch 6/15\n",
      " - 6909s - loss: 0.0990 - accuracy: 0.9651 - val_loss: 1.1925 - val_accuracy: 0.8983\n",
      "lr: 0.05488116360940264\n",
      "Epoch 7/15\n",
      " - 6853s - loss: 0.0894 - accuracy: 0.9678 - val_loss: 0.1672 - val_accuracy: 0.8877\n",
      "lr: 0.04965853037914095\n",
      "Epoch 8/15\n",
      " - 6822s - loss: 0.0845 - accuracy: 0.9689 - val_loss: 0.0988 - val_accuracy: 0.9137\n",
      "lr: 0.044932896411722156\n",
      "Epoch 9/15\n",
      " - 6838s - loss: 0.0805 - accuracy: 0.9714 - val_loss: 0.0324 - val_accuracy: 0.8900\n",
      "lr: 0.04065696597405991\n",
      "Epoch 10/15\n",
      " - 6822s - loss: 0.0759 - accuracy: 0.9729 - val_loss: 0.0138 - val_accuracy: 0.9203\n",
      "lr: 0.036787944117144235\n",
      "Epoch 11/15\n",
      " - 6835s - loss: 0.0719 - accuracy: 0.9739 - val_loss: 0.9222 - val_accuracy: 0.9116\n",
      "lr: 0.03328710836980796\n",
      "Epoch 12/15\n",
      " - 6867s - loss: 0.0702 - accuracy: 0.9750 - val_loss: 0.1852 - val_accuracy: 0.9020\n",
      "lr: 0.030119421191220203\n",
      "Epoch 13/15\n",
      " - 6616s - loss: 0.0687 - accuracy: 0.9751 - val_loss: 0.0926 - val_accuracy: 0.9201\n",
      "lr: 0.02725317930340126\n",
      "Epoch 14/15\n",
      " - 7001s - loss: 0.0664 - accuracy: 0.9763 - val_loss: 0.1001 - val_accuracy: 0.9090\n",
      "lr: 0.024659696394160643\n",
      "Epoch 15/15\n",
      " - 7028s - loss: 0.0638 - accuracy: 0.9774 - val_loss: 0.0134 - val_accuracy: 0.9251\n",
      "lr: 0.022313016014842982\n"
     ]
    }
   ],
   "source": [
    "\"\"\"cnn_model data preprocessing\"\"\"\n",
    "\n",
    "from keras.preprocessing.image import ImageDataGenerator\n",
    "\n",
    "training_data_generator = ImageDataGenerator( rescale=1./255,\n",
    "                                              shear_range=0.2,\n",
    "                                              zoom_range=0.2,\n",
    "                                              horizontal_flip=True)\n",
    "\n",
    "test_data_generator  = ImageDataGenerator(rescale=1./255)\n",
    "\n",
    "training_dataset  = training_data_generator.flow_from_directory(\n",
    "                                                        \"C:\\\\Users\\\\rahul\\\\Desktop\\\\chest_xray\\\\chest_xray\\\\train\",  \n",
    "                                                          # path of the training dataset images\n",
    "                                                        target_size=(64, 64),\n",
    "                                                        batch_size=32,\n",
    "                                                        class_mode='binary')\n",
    "\n",
    "test_dataset =  test_data_generator.flow_from_directory(\n",
    "                                                        \"C:\\\\Users\\\\rahul\\\\Desktop\\\\chest_xray\\\\chest_xray\\\\test\",  \n",
    "                                                       # path of the test dataset images\n",
    "                                                        target_size=(64, 64) ,\n",
    "                                                        batch_size=32,\n",
    "                                                        class_mode= \"binary\",\n",
    "                                                        shuffle = False)\n",
    "\n",
    "history = cnn_model.fit_generator(\n",
    "                        training_dataset ,               \n",
    "                        steps_per_epoch=5216,           # no of pics in the training dataset\n",
    "                        epochs= 15 ,                     # no of rounds\n",
    "                        validation_data= test_dataset,  \n",
    "                        validation_steps=624,             # no of pics in the test dataset\n",
    "                        verbose= 2,\n",
    "                        callbacks= callbacks_list)         "
   ]
  },
  {
   "cell_type": "code",
   "execution_count": 14,
   "metadata": {},
   "outputs": [
    {
     "data": {
      "image/png": "[encoded data removed]",
      "text/plain": [
       "<Figure size 432x288 with 1 Axes>"
      ]
     },
     "metadata": {
      "needs_background": "light"
     },
     "output_type": "display_data"
    },
    {
     "data": {
      "image/png": "[encoded data removed]",
      "text/plain": [
       "<Figure size 432x288 with 1 Axes>"
      ]
     },
     "metadata": {
      "needs_background": "light"
     },
     "output_type": "display_data"
    }
   ],
   "source": [
    "\"\"\"visualizing the Result\"\"\"\n",
    "\n",
    "import matplotlib.pyplot as plt\n",
    "\n",
    "# getting the result from the model\n",
    "acc = history.history['accuracy']\n",
    "val_acc = history.history['val_accuracy']\n",
    "loss = history.history['loss']\n",
    "val_loss = history.history['val_loss']\n",
    "\n",
    "epochs = range(1, len(acc) + 1)\n",
    "\n",
    "#plotting training vs testing accuracy graph\n",
    "\n",
    "plt.plot(epochs, acc, \"red\" , label='Training accuracy')\n",
    "plt.plot(epochs, val_acc, \"blue\" , label='testing accuracy')\n",
    "plt.title('Training vs testing accuracy')\n",
    "plt.legend()\n",
    "\n",
    "plt.figure()\n",
    "\n",
    "#plotting training vs testing loss graph\n",
    "\n",
    "plt.plot(epochs, loss, \"red\", label= \"Training loss\")\n",
    "plt.plot(epochs, val_loss, \"blue\" , label = \"testing loss\")\n",
    "plt.title('Training vs testing loss')\n",
    "plt.legend()\n",
    "\n",
    "plt.show()"
   ]
  },
  {
   "cell_type": "code",
   "execution_count": 19,
   "metadata": {},
   "outputs": [
    {
     "name": "stdout",
     "output_type": "stream",
     "text": [
      "Normal\n"
     ]
    }
   ],
   "source": [
    "\"\"\"for making new prediction from the Neural net model\"\"\"\n",
    "\n",
    "import numpy as np\n",
    "from keras.preprocessing import image\n",
    "test_image = image.load_img(\"C:\\\\Users\\\\rahul\\\\Desktop\\\\chest_xray\\\\chest_xray\\\\test\\\\NORMAL\\\\IM-0006-0001.jpeg\", \n",
    "                            target_size = (64, 64))\n",
    "\n",
    "# load_image -> path of the image to check\n",
    "test_image = image.img_to_array(test_image)\n",
    "test_image = np.expand_dims(test_image, axis = 0)\n",
    "result = cnn_model.predict(test_image)\n",
    "training_dataset.class_indices\n",
    "if result[0][0] == 1:\n",
    "    prediction = \"Pneumonia\"\n",
    "else:\n",
    "    prediction = \"Normal\"\n",
    "\n",
    "print(prediction)"
   ]
  },
  {
   "cell_type": "code",
   "execution_count": 20,
   "metadata": {},
   "outputs": [
    {
     "name": "stdout",
     "output_type": "stream",
     "text": [
      "20/20 [==============================] - 11s 526ms/step\n",
      "Confusion Matrix\n",
      "[[202  32]\n",
      " [ 15 375]]\n",
      "Classification Report\n",
      "              precision    recall  f1-score   support\n",
      "\n",
      "      Normal       0.93      0.86      0.90       234\n",
      "   Pneumonia       0.92      0.96      0.94       390\n",
      "\n",
      "    accuracy                           0.92       624\n",
      "   macro avg       0.93      0.91      0.92       624\n",
      "weighted avg       0.92      0.92      0.92       624\n",
      "\n"
     ]
    }
   ],
   "source": [
    "# making the confusion matrix\n",
    "\n",
    "from sklearn.metrics import confusion_matrix\n",
    "\n",
    "Y_pred = cnn_model.predict_generator(test_dataset , workers = 0, verbose= 1 , \n",
    "                                     steps = np.ceil(test_dataset.samples/ test_dataset.batch_size))\n",
    "\n",
    "y_pred = np.where(Y_pred>0.5 , 1 , 0)\n",
    "\n",
    "print(\"Confusion Matrix\")\n",
    "cm = confusion_matrix(test_dataset.classes, y_pred)\n",
    "print(cm)\n",
    "\n",
    "# making the classification report\n",
    "\n",
    "from sklearn.metrics import classification_report\n",
    "print(\"Classification Report\")\n",
    "target_names = [\"Normal\" , \"Pneumonia\"]\n",
    "print(classification_report(test_dataset.classes, y_pred , target_names=target_names))"
   ]
  },
  {
   "cell_type": "code",
   "execution_count": 21,
   "metadata": {},
   "outputs": [
    {
     "data": {
      "image/png": "[encoded data removed]",
      "text/plain": [
       "<Figure size 432x288 with 2 Axes>"
      ]
     },
     "metadata": {
      "needs_background": "light"
     },
     "output_type": "display_data"
    }
   ],
   "source": [
    "# visualizing the confusion matrix \n",
    "import matplotlib.pyplot as plt\n",
    "\n",
    "plt.imshow(cm , cmap = plt.cm.Blues)\n",
    "plt.xlabel(\"Predicted outcomes\")\n",
    "plt.ylabel(\"True outcomes\")\n",
    "plt.xticks([], [])\n",
    "plt.yticks([], [])\n",
    "plt.title(\"Confusion matrix\")\n",
    "plt.colorbar()\n",
    "plt.show()"
   ]
  }
 ],
 "metadata": {
  "kernelspec": {
   "display_name": "Python 3",
   "language": "python",
   "name": "python3"
  },
  "language_info": {
   "codemirror_mode": {
    "name": "ipython",
    "version": 3
   },
   "file_extension": ".py",
   "mimetype": "text/x-python",
   "name": "python",
   "nbconvert_exporter": "python",
   "pygments_lexer": "ipython3",
   "version": "3.7.6"
  }
 },
 "nbformat": 4,
 "nbformat_minor": 4
}
